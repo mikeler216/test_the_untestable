{
 "cells": [
  {
   "cell_type": "code",
   "execution_count": 578,
   "id": "4e05e09f94c7594",
   "metadata": {
    "collapsed": true,
    "ExecuteTime": {
     "end_time": "2023-11-23T07:05:08.832845Z",
     "start_time": "2023-11-23T07:05:08.478606Z"
    }
   },
   "outputs": [],
   "source": [
    "from datetime import datetime\n",
    "from typing import Never, Generator\n",
    "from unittest.mock import MagicMock\n",
    "\n",
    "import freezegun\n",
    "import ipytest\n",
    "import pytest\n",
    "import pytest_mock\n",
    "import requests\n",
    "from fastapi import FastAPI\n",
    "from flask import Flask\n",
    "from httpx import AsyncClient, Client\n",
    "from mongomock_motor import AsyncMongoMockClient\n",
    "from motor import MotorClient\n",
    "from pytest_mock import MockerFixture, MockFixture\n"
   ]
  },
  {
   "cell_type": "code",
   "execution_count": 579,
   "outputs": [],
   "source": [
    "ipytest.autoconfig(\n",
    "    rewrite_asserts=True, addopts=['-qq'],\n",
    "    # run in a separate thread\n",
    "    run_in_thread=True,\n",
    ")\n"
   ],
   "metadata": {
    "collapsed": false,
    "ExecuteTime": {
     "end_time": "2023-11-23T07:05:08.849107Z",
     "start_time": "2023-11-23T07:05:08.480601Z"
    }
   },
   "id": "initial_id"
  },
  {
   "cell_type": "code",
   "execution_count": 580,
   "outputs": [],
   "source": [
    "def turn_anything_to_list[T](x: T) -> list[T]:\n",
    "    \"\"\"\n",
    "    Turn anything to list.\n",
    "    Simple function that turns anything to list. \n",
    "    \"\"\"\n",
    "    if isinstance(x, list):\n",
    "        return x\n",
    "    else:\n",
    "        return [x]"
   ],
   "metadata": {
    "collapsed": false,
    "ExecuteTime": {
     "end_time": "2023-11-23T07:05:08.849212Z",
     "start_time": "2023-11-23T07:05:08.485272Z"
    }
   },
   "id": "9e89596c0bd21fab"
  },
  {
   "cell_type": "code",
   "execution_count": 581,
   "outputs": [
    {
     "name": "stdout",
     "output_type": "stream",
     "text": [
      "\u001B[32m.\u001B[0m\u001B[33m                                                                                            [100%]\u001B[0m\n",
      "\u001B[33m========================================= warnings summary =========================================\u001B[0m\n",
      "../../Library/Caches/pypoetry/virtualenvs/testing-the-untestable-0P_TvnzK-py3.12/lib/python3.12/site-packages/_pytest/config/__init__.py:1204\n",
      "  /Users/michael/Library/Caches/pypoetry/virtualenvs/testing-the-untestable-0P_TvnzK-py3.12/lib/python3.12/site-packages/_pytest/config/__init__.py:1204: PytestAssertRewriteWarning: Module already imported so cannot be rewritten: pytest_mock\n",
      "    self._mark_plugins_for_rewrite(hook)\n",
      "\n",
      "-- Docs: https://docs.pytest.org/en/stable/how-to/capture-warnings.html\n"
     ]
    }
   ],
   "source": [
    "%%ipytest\n",
    "\n",
    "def test_turn_anything_to_list():\n",
    "    assert turn_anything_to_list(1) == [1]\n",
    "    assert turn_anything_to_list([1]) == [1]\n",
    "    assert turn_anything_to_list(2) != 2\n"
   ],
   "metadata": {
    "collapsed": false,
    "ExecuteTime": {
     "end_time": "2023-11-23T07:05:08.849562Z",
     "start_time": "2023-11-23T07:05:08.495436Z"
    }
   },
   "id": "828c6e0089f2eeb0"
  },
  {
   "cell_type": "code",
   "execution_count": 582,
   "outputs": [],
   "source": [
    "def turn_anything_to_list_but_not_a_list[T](x: T) -> list[T]:\n",
    "    \"\"\"\n",
    "    Turn anything to list.\n",
    "    Simple function that turns anything to list but will fail if given list. \n",
    "    \"\"\"\n",
    "    if isinstance(x, list):\n",
    "        raise ValueError(\"I don't want a list\")\n",
    "    else:\n",
    "        return [x]"
   ],
   "metadata": {
    "collapsed": false,
    "ExecuteTime": {
     "end_time": "2023-11-23T07:05:08.849631Z",
     "start_time": "2023-11-23T07:05:08.586460Z"
    }
   },
   "id": "f46789f32c084f2b"
  },
  {
   "cell_type": "code",
   "execution_count": 583,
   "outputs": [
    {
     "name": "stdout",
     "output_type": "stream",
     "text": [
      "\u001B[32m.\u001B[0m\u001B[33m                                                                                            [100%]\u001B[0m\n",
      "\u001B[33m========================================= warnings summary =========================================\u001B[0m\n",
      "../../Library/Caches/pypoetry/virtualenvs/testing-the-untestable-0P_TvnzK-py3.12/lib/python3.12/site-packages/_pytest/config/__init__.py:1204\n",
      "  /Users/michael/Library/Caches/pypoetry/virtualenvs/testing-the-untestable-0P_TvnzK-py3.12/lib/python3.12/site-packages/_pytest/config/__init__.py:1204: PytestAssertRewriteWarning: Module already imported so cannot be rewritten: pytest_mock\n",
      "    self._mark_plugins_for_rewrite(hook)\n",
      "\n",
      "-- Docs: https://docs.pytest.org/en/stable/how-to/capture-warnings.html\n"
     ]
    }
   ],
   "source": [
    "%%ipytest\n",
    "\n",
    "def test_turn_anything_to_list_but_not_a_list():\n",
    "    assert turn_anything_to_list_but_not_a_list(1) == [1]\n",
    "    # Here we test that the function raises an error using pytest.raises\n",
    "    with pytest.raises(ValueError):\n",
    "        turn_anything_to_list_but_not_a_list([1])"
   ],
   "metadata": {
    "collapsed": false,
    "ExecuteTime": {
     "end_time": "2023-11-23T07:05:08.849794Z",
     "start_time": "2023-11-23T07:05:08.590904Z"
    }
   },
   "id": "8ec3584cff2de664"
  },
  {
   "cell_type": "code",
   "execution_count": 584,
   "outputs": [],
   "source": [
    "\"\"\"\n",
    "Example: unreachable service class test.\n",
    "Here we have a classical case of why testing is hard we have some service can be in Azure can be an internal microservice that we want to call.\n",
    "In CI and on our computer we can't or don't want to reach the service but we still want to test the code that calls the service.\n",
    "\"\"\"\n",
    "\n",
    "\n",
    "class SomeUnreachableService:\n",
    "    def __init__(self, connection_string: str):\n",
    "        self.connection_string = connection_string\n",
    "\n",
    "    def client(self) -> Never:\n",
    "        raise RuntimeError(\"Service not reachable\")\n",
    "\n",
    "    def make_call(self, arguments: list[str]) -> str:\n",
    "        \"\"\"\n",
    "        Make a call to the service.\n",
    "        Simple function that calls the service.\n",
    "        \"\"\"\n",
    "\n",
    "        return self.client().call(arguments)[:-1]\n",
    "\n"
   ],
   "metadata": {
    "collapsed": false,
    "ExecuteTime": {
     "end_time": "2023-11-23T07:05:08.849857Z",
     "start_time": "2023-11-23T07:05:08.660548Z"
    }
   },
   "id": "6b3e9c6792c493f3"
  },
  {
   "cell_type": "code",
   "execution_count": 585,
   "outputs": [
    {
     "name": "stdout",
     "output_type": "stream",
     "text": [
      "\u001B[32m.\u001B[0m\u001B[32m.\u001B[0m\u001B[33m                                                                                           [100%]\u001B[0m\n",
      "\u001B[33m========================================= warnings summary =========================================\u001B[0m\n",
      "../../Library/Caches/pypoetry/virtualenvs/testing-the-untestable-0P_TvnzK-py3.12/lib/python3.12/site-packages/_pytest/config/__init__.py:1204\n",
      "  /Users/michael/Library/Caches/pypoetry/virtualenvs/testing-the-untestable-0P_TvnzK-py3.12/lib/python3.12/site-packages/_pytest/config/__init__.py:1204: PytestAssertRewriteWarning: Module already imported so cannot be rewritten: pytest_mock\n",
      "    self._mark_plugins_for_rewrite(hook)\n",
      "\n",
      "-- Docs: https://docs.pytest.org/en/stable/how-to/capture-warnings.html\n"
     ]
    }
   ],
   "source": [
    "%%ipytest\n",
    "\n",
    "def test_call_unreachable_service():\n",
    "    \"\"\"\n",
    "    We could go the route we went before to check if it raises an error.\n",
    "    But the more interesting thing is to check was is the service called the way we expect.\n",
    "    \"\"\"\n",
    "    with pytest.raises(RuntimeError):\n",
    "        SomeUnreachableService(connection_string=\"something\").make_call([\"some\", \"arguments\"])\n",
    "\n",
    "\n",
    "# Here we will start using fixtures to mock the service's client to a Magic Mock\n",
    "@pytest.fixture\n",
    "def mock_service(mocker: MockerFixture):\n",
    "    _some_unreachable_service_mocked = SomeUnreachableService(connection_string=\"connection_string\")\n",
    "    _some_unreachable_service_mocked.client = mocker.Mock()\n",
    "\n",
    "    # we can also add a return value to the mock call\n",
    "    _some_unreachable_service_mocked.client().call.return_value = \"some return value\"\n",
    "    return _some_unreachable_service_mocked\n",
    "\n",
    "\n",
    "def test_call_unreachable_service_with_mock(mock_service):\n",
    "    # we can assert the call has the params we expect\n",
    "    # Why is this important? Because we are processing the return value after we call the service.\n",
    "    # The service is out of our control, but our code is ours, and we have to test it.\n",
    "    assert mock_service.make_call([\"some\", \"arguments\"]) == \"some return valu\"\n",
    "\n",
    "    # test that we called the function once\n",
    "    mock_service.client().call.assert_called_once()\n",
    "\n",
    "    # test that we called the function with the right arguments\n",
    "    mock_service.client().call.assert_called_with([\"some\", \"arguments\"])\n"
   ],
   "metadata": {
    "collapsed": false,
    "ExecuteTime": {
     "end_time": "2023-11-23T07:05:08.850850Z",
     "start_time": "2023-11-23T07:05:08.666967Z"
    }
   },
   "id": "5bac902f28d5b7ac"
  },
  {
   "cell_type": "code",
   "execution_count": 586,
   "outputs": [],
   "source": [
    "\"\"\"\n",
    "Example: unreachable service class test in real life.\n",
    "Lets continue with previous example.\n",
    "\"\"\"\n",
    "\n",
    "\n",
    "def call_unreachable_service_dependency_injection(service: SomeUnreachableService, arguments: list[str]) -> None:\n",
    "    \"\"\"\n",
    "    Call an unreachable service.\n",
    "    Simple function that calls an unreachable service.\n",
    "    \"\"\"\n",
    "    service.make_call(arguments)\n"
   ],
   "metadata": {
    "collapsed": false,
    "ExecuteTime": {
     "end_time": "2023-11-23T07:05:08.850916Z",
     "start_time": "2023-11-23T07:05:08.738605Z"
    }
   },
   "id": "6723860314f378bc"
  },
  {
   "cell_type": "code",
   "execution_count": 587,
   "outputs": [
    {
     "name": "stdout",
     "output_type": "stream",
     "text": [
      "\u001B[32m.\u001B[0m\u001B[33m                                                                                            [100%]\u001B[0m\n",
      "\u001B[33m========================================= warnings summary =========================================\u001B[0m\n",
      "../../Library/Caches/pypoetry/virtualenvs/testing-the-untestable-0P_TvnzK-py3.12/lib/python3.12/site-packages/_pytest/config/__init__.py:1204\n",
      "  /Users/michael/Library/Caches/pypoetry/virtualenvs/testing-the-untestable-0P_TvnzK-py3.12/lib/python3.12/site-packages/_pytest/config/__init__.py:1204: PytestAssertRewriteWarning: Module already imported so cannot be rewritten: pytest_mock\n",
      "    self._mark_plugins_for_rewrite(hook)\n",
      "\n",
      "-- Docs: https://docs.pytest.org/en/stable/how-to/capture-warnings.html\n"
     ]
    }
   ],
   "source": [
    "%%ipytest\n",
    "\n",
    "def test_call_unreachable_service_dependency_injection_with_mock(mock_service):\n",
    "    \"\"\"\n",
    "    Now here, where the code uses nice dependency injection, we can test the code without too much hassle.\n",
    "    We just provide our new mocked service to function, and we can test it.\n",
    "    \"\"\"\n",
    "    call_unreachable_service_dependency_injection(mock_service, [\"some\", \"arguments\"])\n",
    "    # test that we called the function once\n",
    "    mock_service.client().call.assert_called_once()\n",
    "\n",
    "    # test that we called the function with the right arguments\n",
    "    mock_service.client().call.assert_called_with([\"some\", \"arguments\"])\n"
   ],
   "metadata": {
    "collapsed": false,
    "ExecuteTime": {
     "end_time": "2023-11-23T07:05:08.851928Z",
     "start_time": "2023-11-23T07:05:08.744018Z"
    }
   },
   "id": "4cd9cd8b0394206a"
  },
  {
   "cell_type": "code",
   "execution_count": 588,
   "outputs": [],
   "source": [
    "def call_unreachable_service_without_dependency_injection(arguments: list[str]) -> None:\n",
    "    \"\"\"\n",
    "    Call an unreachable service.\n",
    "    Simple function that calls an unreachable service but without dependency injection\n",
    "    \"\"\"\n",
    "    service = SomeUnreachableService(\"connection_string\")\n",
    "    service.make_call(arguments)\n"
   ],
   "metadata": {
    "collapsed": false,
    "ExecuteTime": {
     "end_time": "2023-11-23T07:05:08.851988Z",
     "start_time": "2023-11-23T07:05:08.817045Z"
    }
   },
   "id": "bbe7c0f171a56abc"
  },
  {
   "cell_type": "code",
   "execution_count": 589,
   "outputs": [
    {
     "name": "stdout",
     "output_type": "stream",
     "text": [
      "\u001B[32m.\u001B[0m\u001B[33m                                                                                            [100%]\u001B[0m\n",
      "\u001B[33m========================================= warnings summary =========================================\u001B[0m\n",
      "../../Library/Caches/pypoetry/virtualenvs/testing-the-untestable-0P_TvnzK-py3.12/lib/python3.12/site-packages/_pytest/config/__init__.py:1204\n",
      "  /Users/michael/Library/Caches/pypoetry/virtualenvs/testing-the-untestable-0P_TvnzK-py3.12/lib/python3.12/site-packages/_pytest/config/__init__.py:1204: PytestAssertRewriteWarning: Module already imported so cannot be rewritten: pytest_mock\n",
      "    self._mark_plugins_for_rewrite(hook)\n",
      "\n",
      "-- Docs: https://docs.pytest.org/en/stable/how-to/capture-warnings.html\n"
     ]
    }
   ],
   "source": [
    "%%ipytest\n",
    "\n",
    "@pytest.fixture\n",
    "def client_mock(mocker: MockerFixture) -> MagicMock:\n",
    "    return mocker.MagicMock()\n",
    "\n",
    "\n",
    "@pytest.fixture\n",
    "def monkeypatch_service(monkeypatch: pytest.MonkeyPatch, client_mock: MagicMock) -> None:\n",
    "    \"\"\"\n",
    "    Let's try to monkeypatch the service. \n",
    "    Here we also see an example of composing of pytest fixtures.\n",
    "    We are taking the \"client_mock\" fixture as an argument and passing it to the \"monkeypatch_service\" fixture.\n",
    "    \"\"\"\n",
    "    monkeypatch.setattr(SomeUnreachableService, \"client\", client_mock)\n",
    "\n",
    "\n",
    "@pytest.mark.usefixtures(\"monkeypatch_service\")\n",
    "def test_call_unreachable_service_without_dependency_injection(client_mock: MagicMock):\n",
    "    \"\"\"\n",
    "    \"@pytest.mark.usefixtures(\"monkeypatch_service\")\" we start using more advanced features of pytest here.\n",
    "    as we don't need the return value of the \"monkeypatch_service\" (which is None any way) and only need the \"client_mock\" fixture, we will pass one as an argument and one to the \"pytest.mark.usefixtures\" decorator.\n",
    "    \n",
    "    \"\"\"\n",
    "    call_unreachable_service_without_dependency_injection([\"some\", \"arguments\"])\n",
    "\n",
    "    # test that we called the function once\n",
    "    client_mock().call.assert_called_once()\n",
    "\n",
    "    # test that we called the function with the right arguments\n",
    "    client_mock().call.assert_called_with([\"some\", \"arguments\"])\n"
   ],
   "metadata": {
    "collapsed": false,
    "ExecuteTime": {
     "end_time": "2023-11-23T07:05:09.095994Z",
     "start_time": "2023-11-23T07:05:08.821868Z"
    }
   },
   "id": "1969f73e5743038e"
  },
  {
   "cell_type": "code",
   "execution_count": 590,
   "outputs": [],
   "source": [
    "\"\"\"\n",
    "Example 3 teardown in pytest.\n",
    "In this example we have a Singleton class CountCalls class that counts its calls \n",
    "and we want to preform a few tests on.\n",
    "\"\"\"\n",
    "\n",
    "\n",
    "class Singleton(type):\n",
    "    _instances = {}\n",
    "\n",
    "    def __call__(self, *args, **kwargs):\n",
    "        if self not in self._instances:\n",
    "            self._instances[self] = super(Singleton, self).__call__(*args, **kwargs)\n",
    "        return self._instances[self]\n",
    "\n",
    "\n",
    "class CountCalls(metaclass=Singleton):\n",
    "    call_count = 0\n",
    "\n",
    "    def __init__(self):\n",
    "        ...\n",
    "\n",
    "    def make_call(self):\n",
    "        self.call_count += 1\n"
   ],
   "metadata": {
    "collapsed": false,
    "ExecuteTime": {
     "end_time": "2023-11-23T07:05:09.096070Z",
     "start_time": "2023-11-23T07:05:08.891897Z"
    }
   },
   "id": "db3791a0ea2a801c"
  },
  {
   "cell_type": "code",
   "execution_count": 591,
   "outputs": [
    {
     "name": "stdout",
     "output_type": "stream",
     "text": [
      "\u001B[32m.\u001B[0m\u001B[33mx\u001B[0m\u001B[33m                                                                                           [100%]\u001B[0m\n",
      "\u001B[33m========================================= warnings summary =========================================\u001B[0m\n",
      "../../Library/Caches/pypoetry/virtualenvs/testing-the-untestable-0P_TvnzK-py3.12/lib/python3.12/site-packages/_pytest/config/__init__.py:1204\n",
      "  /Users/michael/Library/Caches/pypoetry/virtualenvs/testing-the-untestable-0P_TvnzK-py3.12/lib/python3.12/site-packages/_pytest/config/__init__.py:1204: PytestAssertRewriteWarning: Module already imported so cannot be rewritten: pytest_mock\n",
      "    self._mark_plugins_for_rewrite(hook)\n",
      "\n",
      "-- Docs: https://docs.pytest.org/en/stable/how-to/capture-warnings.html\n"
     ]
    }
   ],
   "source": [
    "%%ipytest\n",
    "\n",
    "def test_count_calls():\n",
    "    \"\"\"\n",
    "    This test works perfectly\n",
    "    \"\"\"\n",
    "    count_calls = CountCalls()\n",
    "    count_calls.make_call()\n",
    "    count_calls.make_call()\n",
    "    assert count_calls.call_count == 2\n",
    "\n",
    "\n",
    "@pytest.mark.xfail(reason=\"This test is expected to fail because the singleton is not cleaned between tests\")\n",
    "def test_failing_test():\n",
    "    \"\"\"\n",
    "    While this one fails\n",
    "    \"\"\"\n",
    "    count_calls = CountCalls()\n",
    "    count_calls.make_call()\n",
    "    count_calls.make_call()\n",
    "    assert count_calls.call_count == 2\n"
   ],
   "metadata": {
    "collapsed": false,
    "ExecuteTime": {
     "end_time": "2023-11-23T07:05:09.096282Z",
     "start_time": "2023-11-23T07:05:08.902792Z"
    }
   },
   "id": "b6ba9f974bca2d04"
  },
  {
   "cell_type": "code",
   "execution_count": 592,
   "outputs": [
    {
     "name": "stdout",
     "output_type": "stream",
     "text": [
      "\u001B[32m.\u001B[0m\u001B[32m.\u001B[0m\u001B[33m                                                                                           [100%]\u001B[0m\n",
      "\u001B[33m========================================= warnings summary =========================================\u001B[0m\n",
      "../../Library/Caches/pypoetry/virtualenvs/testing-the-untestable-0P_TvnzK-py3.12/lib/python3.12/site-packages/_pytest/config/__init__.py:1204\n",
      "  /Users/michael/Library/Caches/pypoetry/virtualenvs/testing-the-untestable-0P_TvnzK-py3.12/lib/python3.12/site-packages/_pytest/config/__init__.py:1204: PytestAssertRewriteWarning: Module already imported so cannot be rewritten: pytest_mock\n",
      "    self._mark_plugins_for_rewrite(hook)\n",
      "\n",
      "-- Docs: https://docs.pytest.org/en/stable/how-to/capture-warnings.html\n"
     ]
    }
   ],
   "source": [
    "%%ipytest\n",
    "\n",
    "# This will reset the call count for this test once\n",
    "CountCalls().call_count = 0\n",
    "\n",
    "\n",
    "@pytest.fixture\n",
    "def call_count_with_teardown() -> Generator[CountCalls, None, None]:\n",
    "    \"\"\"\n",
    "    This fixture will be called before and after each test that uses it.\n",
    "    The yield statement is where the test will be run. After the yield statement, the teardown statement will be run.\n",
    "    This is similar to how \"@contextlib.contextmanager\" works.\n",
    "    * This might fail the first run as \"CountCalls\" was called and not cleaned before the test.\n",
    "    \"\"\"\n",
    "    _count_calls = CountCalls()\n",
    "    yield _count_calls\n",
    "    _count_calls.call_count = 0\n",
    "\n",
    "\n",
    "def test_count_calls_1(call_count_with_teardown):\n",
    "    call_count_with_teardown.make_call()\n",
    "    call_count_with_teardown.make_call()\n",
    "    assert call_count_with_teardown.call_count == 2\n",
    "\n",
    "\n",
    "def test_not_failing_test(call_count_with_teardown):\n",
    "    call_count_with_teardown.make_call()\n",
    "    call_count_with_teardown.make_call()\n",
    "    assert call_count_with_teardown.call_count == 2\n"
   ],
   "metadata": {
    "collapsed": false,
    "ExecuteTime": {
     "end_time": "2023-11-23T07:05:09.098330Z",
     "start_time": "2023-11-23T07:05:08.984455Z"
    }
   },
   "id": "ab15fbcc10ff3a55"
  },
  {
   "cell_type": "code",
   "execution_count": 593,
   "outputs": [],
   "source": [
    "\"\"\"\n",
    "Example 4: mocker.ANY, freezetime and how to make tests more deterministic.\n",
    "\"\"\"\n",
    "\n",
    "\n",
    "def return_some_object_with_iso_datetime() -> dict[str, str]:\n",
    "    return {\"requested_at\": datetime.now().isoformat(), \"value\": \"some value\"}\n"
   ],
   "metadata": {
    "collapsed": false,
    "ExecuteTime": {
     "end_time": "2023-11-23T07:05:09.098406Z",
     "start_time": "2023-11-23T07:05:09.056377Z"
    }
   },
   "id": "c1c431d954d47c22"
  },
  {
   "cell_type": "code",
   "execution_count": 594,
   "outputs": [
    {
     "name": "stdout",
     "output_type": "stream",
     "text": [
      "\u001B[33mx\u001B[0m\u001B[32m.\u001B[0m\u001B[32m.\u001B[0m\u001B[33m                                                                                          [100%]\u001B[0m\n",
      "\u001B[33m========================================= warnings summary =========================================\u001B[0m\n",
      "../../Library/Caches/pypoetry/virtualenvs/testing-the-untestable-0P_TvnzK-py3.12/lib/python3.12/site-packages/_pytest/config/__init__.py:1204\n",
      "  /Users/michael/Library/Caches/pypoetry/virtualenvs/testing-the-untestable-0P_TvnzK-py3.12/lib/python3.12/site-packages/_pytest/config/__init__.py:1204: PytestAssertRewriteWarning: Module already imported so cannot be rewritten: pytest_mock\n",
      "    self._mark_plugins_for_rewrite(hook)\n",
      "\n",
      "-- Docs: https://docs.pytest.org/en/stable/how-to/capture-warnings.html\n"
     ]
    }
   ],
   "source": [
    "%%ipytest\n",
    "\n",
    "@pytest.mark.xfail(reason=\"The 'requested_at' field is not the same as time moves\")\n",
    "def test_return_some_object_with_iso_datetime_failing():\n",
    "    assert return_some_object_with_iso_datetime() == {\n",
    "        \"requested_at\": datetime.now().isoformat(),\n",
    "        \"value\": \"some value\",\n",
    "    }\n",
    "\n",
    "\n",
    "def test_return_some_object_with_iso_datetime_with_any(mocker: MockFixture) -> None:\n",
    "    \"\"\"\n",
    "    Here we will use mocker special variable ANY.\n",
    "    ANY will be equal to anything that is passed to it.\n",
    "    \"\"\"\n",
    "    assert return_some_object_with_iso_datetime() == {\n",
    "        \"requested_at\": mocker.ANY,\n",
    "        \"value\": \"some value\",\n",
    "    }\n",
    "\n",
    "\n",
    "@freezegun.freeze_time(\"2021-01-01\")\n",
    "def test_return_some_object_with_iso_datetime_with_freezegun() -> None:\n",
    "    \"\"\"\n",
    "    Here we will use freezegun.\n",
    "    Freezegun will freeze the time to the date we pass to it.\n",
    "    So we can make this test deterministic.\n",
    "    \"\"\"\n",
    "    assert return_some_object_with_iso_datetime() == {\n",
    "        \"requested_at\": \"2021-01-01T00:00:00\",\n",
    "        \"value\": \"some value\",\n",
    "    }"
   ],
   "metadata": {
    "collapsed": false,
    "ExecuteTime": {
     "end_time": "2023-11-23T07:05:09.316483Z",
     "start_time": "2023-11-23T07:05:09.063703Z"
    }
   },
   "id": "a519c10b5cdc2233"
  },
  {
   "cell_type": "code",
   "execution_count": 595,
   "outputs": [],
   "source": [
    "\"\"\"\n",
    "Example 5: ASGI/WSGI application.\n",
    "HTTPX back to the rescue with AsyncClient and Client we can provide any ASGI/WSGI application and call the app.\n",
    "I created two super minimal apps one with FastAPI and one with Flask. but you can use any app you want as long as its ASGI/WSGI.\n",
    "\"\"\"\n",
    "\n",
    "\n",
    "def fastapi_app():\n",
    "    app = FastAPI()\n",
    "\n",
    "    @app.get(\"/hello\")\n",
    "    async def hello():\n",
    "        return {\"message\": \"Hello World\"}\n",
    "\n",
    "    return app\n",
    "\n",
    "\n",
    "def flask_app() -> Flask:\n",
    "    app = Flask(__name__)\n",
    "\n",
    "    @app.route(\"/hello\")\n",
    "    def hello():\n",
    "        return {\"message\": \"Hello World\"}\n",
    "\n",
    "    return app\n",
    "\n"
   ],
   "metadata": {
    "collapsed": false,
    "ExecuteTime": {
     "end_time": "2023-11-23T07:05:09.316579Z",
     "start_time": "2023-11-23T07:05:09.153681Z"
    }
   },
   "id": "c29d5fa7b5f8ddae"
  },
  {
   "cell_type": "code",
   "execution_count": 596,
   "outputs": [
    {
     "name": "stdout",
     "output_type": "stream",
     "text": [
      "\u001B[32m.\u001B[0m\u001B[32m.\u001B[0m\u001B[33m                                                                                           [100%]\u001B[0m\n",
      "\u001B[33m========================================= warnings summary =========================================\u001B[0m\n",
      "../../Library/Caches/pypoetry/virtualenvs/testing-the-untestable-0P_TvnzK-py3.12/lib/python3.12/site-packages/_pytest/config/__init__.py:1204\n",
      "  /Users/michael/Library/Caches/pypoetry/virtualenvs/testing-the-untestable-0P_TvnzK-py3.12/lib/python3.12/site-packages/_pytest/config/__init__.py:1204: PytestAssertRewriteWarning: Module already imported so cannot be rewritten: pytest_mock\n",
      "    self._mark_plugins_for_rewrite(hook)\n",
      "\n",
      "-- Docs: https://docs.pytest.org/en/stable/how-to/capture-warnings.html\n"
     ]
    }
   ],
   "source": [
    "%%ipytest\n",
    "\n",
    "@pytest.fixture(scope=\"session\")\n",
    "def fastapi_client_test() -> AsyncClient:\n",
    "    return AsyncClient(base_url=\"http://test\", app=fastapi_app())\n",
    "\n",
    "\n",
    "@pytest.mark.asyncio\n",
    "async def test_hello_route_fastapi(fastapi_client_test: AsyncClient):\n",
    "    async with fastapi_client_test as client:\n",
    "        response = await client.get(\"/hello\")\n",
    "        assert response.status_code == 200\n",
    "        assert response.json() == {\"message\": \"Hello World\"}\n",
    "\n",
    "\n",
    "@pytest.fixture(scope=\"session\")\n",
    "def flask_client_test() -> Generator[Client, None, None]:\n",
    "    with Client(base_url=\"http://test\", app=flask_app()) as client:\n",
    "        yield client\n",
    "\n",
    "\n",
    "def test_hello_route_flask(flask_client_test: Client):\n",
    "    response = flask_client_test.get(\"/hello\")\n",
    "    assert response.status_code == 200\n",
    "    assert response.json() == {\"message\": \"Hello World\"}"
   ],
   "metadata": {
    "collapsed": false,
    "ExecuteTime": {
     "end_time": "2023-11-23T07:05:09.318226Z",
     "start_time": "2023-11-23T07:05:09.161823Z"
    }
   },
   "id": "e472450221590d9"
  },
  {
   "cell_type": "code",
   "execution_count": 597,
   "outputs": [],
   "source": [
    "\"\"\"\n",
    "Example 6: Testing http calls and faking mongodb.\n",
    "Before we talked about freezegun and how we can freeze time.\n",
    "Lets see some more tools to help us test our code.\n",
    "\"\"\"\n",
    "\n",
    "\n",
    "def make_a_request_using_requests() -> requests.Response:\n",
    "    \"\"\"\n",
    "    Make a request using requests.\n",
    "    \"\"\"\n",
    "    return requests.get(\"http://localhost:3000/\").json()\n",
    "\n",
    "\n",
    "async def add_data_to_mongodb(motor_client: MotorClient) -> None:\n",
    "    \"\"\"\n",
    "    Make an entire to mongodb.\n",
    "    \"\"\"\n",
    "    db = motor_client.test\n",
    "    collection = db.test_collection\n",
    "    await collection.insert_one({\"test\": \"test\"})\n"
   ],
   "metadata": {
    "collapsed": false,
    "ExecuteTime": {
     "end_time": "2023-11-23T07:05:09.318330Z",
     "start_time": "2023-11-23T07:05:09.242379Z"
    }
   },
   "id": "689c9fbf22f7a0c6"
  },
  {
   "cell_type": "code",
   "execution_count": 598,
   "outputs": [
    {
     "name": "stdout",
     "output_type": "stream",
     "text": [
      "\u001B[32m.\u001B[0m\u001B[32m.\u001B[0m\u001B[33m                                                                                           [100%]\u001B[0m\n",
      "\u001B[33m========================================= warnings summary =========================================\u001B[0m\n",
      "../../Library/Caches/pypoetry/virtualenvs/testing-the-untestable-0P_TvnzK-py3.12/lib/python3.12/site-packages/_pytest/config/__init__.py:1204\n",
      "  /Users/michael/Library/Caches/pypoetry/virtualenvs/testing-the-untestable-0P_TvnzK-py3.12/lib/python3.12/site-packages/_pytest/config/__init__.py:1204: PytestAssertRewriteWarning: Module already imported so cannot be rewritten: pytest_mock\n",
      "    self._mark_plugins_for_rewrite(hook)\n",
      "\n",
      "-- Docs: https://docs.pytest.org/en/stable/how-to/capture-warnings.html\n"
     ]
    }
   ],
   "source": [
    "%%ipytest\n",
    "\n",
    "def test_make_a_request_using_requests(requests_mock):\n",
    "    \"\"\"\n",
    "    Here we use the requests_mock fixture to mock the request. From the plugin \"requests-mock\".\n",
    "    \"\"\"\n",
    "    requests_mock.get(\"http://localhost:3000/\", json={\"value\": \"hello mom\"})\n",
    "    assert make_a_request_using_requests() == {\"value\": \"hello mom\"}\n",
    "\n",
    "\n",
    "@pytest.fixture\n",
    "def async_motor_client():\n",
    "    \"\"\"\n",
    "    Here we use the AsyncMongoMockClient to mock the motor client for mongodb. From the package \"mongomock-motor\".\n",
    "    \"\"\"\n",
    "    return AsyncMongoMockClient()\n",
    "\n",
    "\n",
    "@pytest.mark.asyncio\n",
    "async def test_make_an_entire_to_mongodb(\n",
    "    async_motor_client: AsyncMongoMockClient, mocker: pytest_mock.MockerFixture\n",
    "):\n",
    "    \"\"\"\n",
    "    Here we use the AsyncMongoMockClient to mock the motor client for mongodb. From the package \"mongomock-motor\". Plus, we use the mocker fixture to mock the _id of the data.\n",
    "    \"\"\"\n",
    "    await add_data_to_mongodb(motor_client=async_motor_client)\n",
    "    assert await async_motor_client.test.test_collection.find().to_list() == [\n",
    "        {\"_id\": mocker.ANY, \"test\": \"test\"}\n",
    "    ]\n"
   ],
   "metadata": {
    "collapsed": false,
    "ExecuteTime": {
     "end_time": "2023-11-23T07:05:09.492018Z",
     "start_time": "2023-11-23T07:05:09.248264Z"
    }
   },
   "id": "71b162115d3e4e3c"
  },
  {
   "cell_type": "code",
   "execution_count": 598,
   "outputs": [],
   "source": [],
   "metadata": {
    "collapsed": false,
    "ExecuteTime": {
     "end_time": "2023-11-23T07:05:09.492098Z",
     "start_time": "2023-11-23T07:05:09.323257Z"
    }
   },
   "id": "bc18b64254280fd0"
  }
 ],
 "metadata": {
  "kernelspec": {
   "display_name": "Python 3",
   "language": "python",
   "name": "python3"
  },
  "language_info": {
   "codemirror_mode": {
    "name": "ipython",
    "version": 2
   },
   "file_extension": ".py",
   "mimetype": "text/x-python",
   "name": "python",
   "nbconvert_exporter": "python",
   "pygments_lexer": "ipython2",
   "version": "2.7.6"
  }
 },
 "nbformat": 4,
 "nbformat_minor": 5
}
